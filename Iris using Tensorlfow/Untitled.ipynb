{
 "cells": [
  {
   "cell_type": "code",
   "execution_count": 75,
   "metadata": {},
   "outputs": [],
   "source": [
    "import tensorflow as tf\n",
    "import numpy as np\n",
    "import pandas as pd\n",
    "from sklearn.model_selection import train_test_split"
   ]
  },
  {
   "cell_type": "code",
   "execution_count": 76,
   "metadata": {},
   "outputs": [],
   "source": [
    "def read_data():\n",
    "    df =pd.read_csv(\"iris.csv\")\n",
    "    return df"
   ]
  },
  {
   "cell_type": "code",
   "execution_count": 77,
   "metadata": {},
   "outputs": [],
   "source": [
    "def separate(df):\n",
    "    X = np.array(df.iloc[:,:4])\n",
    "    y = np.array(df.iloc[:,4])\n",
    "    y = np.reshape(y , (X.shape[0],1))\n",
    "    return X , y"
   ]
  },
  {
   "cell_type": "code",
   "execution_count": 78,
   "metadata": {},
   "outputs": [],
   "source": [
    "#train_test_split\n",
    "X_train , X_test , y_train , y_test = train_test_split(X,y , test_size = 0.3)"
   ]
  },
  {
   "cell_type": "code",
   "execution_count": 83,
   "metadata": {},
   "outputs": [],
   "source": []
  },
  {
   "cell_type": "code",
   "execution_count": 90,
   "metadata": {},
   "outputs": [],
   "source": [
    "#initialize\n",
    "input_neuron = 4\n",
    "hidden_neuron = 6\n",
    "output_neuron = 3\n",
    "X_train = tf.placeholder(dtype=tf.float32 , shape= [None , 4])\n",
    "y_train = tf.placeholder(dtype=tf.float32 , shape = [None,1])\n",
    "w1 = tf.Variable(tf.truncated_normal([input_neuron , hidden_neuron]))\n",
    "w2 = tf.Variable(tf.truncated_normal([hidden_neuron , output_neuron]))\n",
    "b1 = tf.Variable(tf.zeros([hidden_neuron]))\n",
    "b2 = tf.Variable(tf.zeros([output_neuron]))\n",
    "init = tf.global_variables_initializer()\n",
    "sess= tf.Session()\n",
    "sess.run(init)"
   ]
  },
  {
   "cell_type": "code",
   "execution_count": 103,
   "metadata": {},
   "outputs": [],
   "source": [
    "# model building\n",
    "logit_1 = tf.matmul(X_train,w1)+b1\n",
    "act = tf.tanh(logit_1)\n",
    "logit_2 = tf.matmul(act,w2)+b2\n",
    "loss = tf.reduce_mean(tf.nn.softmax_cross_entropy_with_logits(labels=y_train ,logits=logit_2))\n",
    "optimzer = tf.train.GradientDescentOptimizer(0.01).minimize(loss)"
   ]
  },
  {
   "cell_type": "code",
   "execution_count": null,
   "metadata": {},
   "outputs": [],
   "source": [
    "sess.run(optimzer , feed_dict={X_train:X_train , y_train: y_train})"
   ]
  },
  {
   "cell_type": "code",
   "execution_count": null,
   "metadata": {},
   "outputs": [],
   "source": []
  }
 ],
 "metadata": {
  "kernelspec": {
   "display_name": "Python 3",
   "language": "python",
   "name": "python3"
  },
  "language_info": {
   "codemirror_mode": {
    "name": "ipython",
    "version": 3
   },
   "file_extension": ".py",
   "mimetype": "text/x-python",
   "name": "python",
   "nbconvert_exporter": "python",
   "pygments_lexer": "ipython3",
   "version": "3.7.4"
  }
 },
 "nbformat": 4,
 "nbformat_minor": 2
}
