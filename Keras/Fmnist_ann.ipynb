{
  "nbformat": 4,
  "nbformat_minor": 0,
  "metadata": {
    "colab": {
      "name": "Fmnist_ann.ipynb",
      "provenance": [],
      "collapsed_sections": []
    },
    "kernelspec": {
      "name": "python3",
      "display_name": "Python 3"
    },
    "accelerator": "GPU"
  },
  "cells": [
    {
      "cell_type": "code",
      "metadata": {
        "id": "PkSl8G6gfO_T",
        "colab_type": "code",
        "colab": {}
      },
      "source": [
        "import tensorflow as tf\n",
        "import numpy as np\n",
        "import pandas as pd\n",
        "import matplotlib.pyplot as plt\n",
        "from keras.datasets import fashion_mnist\n",
        "from tensorflow.keras.models import Sequential\n",
        "from tensorflow.keras.layers import Dense , Flatten"
      ],
      "execution_count": 0,
      "outputs": []
    },
    {
      "cell_type": "code",
      "metadata": {
        "id": "JX30qDn1fyQe",
        "colab_type": "code",
        "colab": {}
      },
      "source": [
        "(X_train , y_train) , (X_test , y_test) = fashion_mnist.load_data()"
      ],
      "execution_count": 0,
      "outputs": []
    },
    {
      "cell_type": "code",
      "metadata": {
        "id": "sOBegjmHgqBL",
        "colab_type": "code",
        "outputId": "4c91d626-79dd-4f41-cf7b-f43a930629c0",
        "colab": {
          "base_uri": "https://localhost:8080/",
          "height": 85
        }
      },
      "source": [
        "print(\"X_train shape{}\".format(X_train.shape))\n",
        "print(\"y_train shape{}\".format(y_train.shape))\n",
        "print(\"X_test shape{}\".format(X_test.shape))\n",
        "print(\"y_test shape{}\".format(y_test.shape))"
      ],
      "execution_count": 10,
      "outputs": [
        {
          "output_type": "stream",
          "text": [
            "X_train shape(60000, 28, 28)\n",
            "y_train shape(60000,)\n",
            "X_test shape(10000, 28, 28)\n",
            "y_test shape(10000,)\n"
          ],
          "name": "stdout"
        }
      ]
    },
    {
      "cell_type": "code",
      "metadata": {
        "id": "L7-30OBDgIzJ",
        "colab_type": "code",
        "colab": {}
      },
      "source": [
        "# creating validation set\n",
        "X_valid , X_train = X_train[:5000]/255.0 , X_train[5000:]/255.0\n",
        "y_valid , y_train  = y_train[:5000] , y_train[5000:]"
      ],
      "execution_count": 0,
      "outputs": []
    },
    {
      "cell_type": "code",
      "metadata": {
        "id": "gciBvmz07j8l",
        "colab_type": "code",
        "colab": {}
      },
      "source": [
        "column_name = [\"Tshirt/top\" , \"trouser\" , \"pullover\" , \"Dress\" , \"coat\" , \"sandal\" , \"shirt\" , \"sneaker\" , \"bag\" , \"ankleboot\"]"
      ],
      "execution_count": 0,
      "outputs": []
    },
    {
      "cell_type": "code",
      "metadata": {
        "id": "-kSjPosz7t2k",
        "colab_type": "code",
        "colab": {
          "base_uri": "https://localhost:8080/",
          "height": 34
        },
        "outputId": "55b2fc9a-83ae-45ec-eca0-30cbc0d02c4f"
      },
      "source": [
        "column_name[y_train[0]]"
      ],
      "execution_count": 22,
      "outputs": [
        {
          "output_type": "execute_result",
          "data": {
            "text/plain": [
              "'coat'"
            ]
          },
          "metadata": {
            "tags": []
          },
          "execution_count": 22
        }
      ]
    },
    {
      "cell_type": "code",
      "metadata": {
        "id": "wv8W8dwG8hge",
        "colab_type": "code",
        "colab": {
          "base_uri": "https://localhost:8080/",
          "height": 323
        },
        "outputId": "3ee86162-cac5-401a-b92d-123069874724"
      },
      "source": [
        "# model building\n",
        "model = Sequential([ Flatten(input_shape = [28,28]),\n",
        "                     Dense (120 , activation='relu'),\n",
        "                     Dense(60 , activation='tanh'),\n",
        "                     Dense(30 , activation='relu'),\n",
        "                     Dense(10 , activation=\"softmax\")])\n",
        "\n",
        "\n",
        "model.summary()"
      ],
      "execution_count": 43,
      "outputs": [
        {
          "output_type": "stream",
          "text": [
            "Model: \"sequential_5\"\n",
            "_________________________________________________________________\n",
            "Layer (type)                 Output Shape              Param #   \n",
            "=================================================================\n",
            "flatten_1 (Flatten)          (None, 784)               0         \n",
            "_________________________________________________________________\n",
            "dense_23 (Dense)             (None, 120)               94200     \n",
            "_________________________________________________________________\n",
            "dense_24 (Dense)             (None, 60)                7260      \n",
            "_________________________________________________________________\n",
            "dense_25 (Dense)             (None, 30)                1830      \n",
            "_________________________________________________________________\n",
            "dense_26 (Dense)             (None, 10)                310       \n",
            "=================================================================\n",
            "Total params: 103,600\n",
            "Trainable params: 103,600\n",
            "Non-trainable params: 0\n",
            "_________________________________________________________________\n"
          ],
          "name": "stdout"
        }
      ]
    },
    {
      "cell_type": "code",
      "metadata": {
        "id": "YDg5s4JOChpZ",
        "colab_type": "code",
        "colab": {}
      },
      "source": [
        "# compile the model\n",
        "model.compile(optimizer=\"adam\" , loss = \"sparse_categorical_crossentropy\" , metrics = ['accuracy'])"
      ],
      "execution_count": 0,
      "outputs": []
    },
    {
      "cell_type": "code",
      "metadata": {
        "id": "3p-Y3B_vHfr2",
        "colab_type": "code",
        "colab": {
          "base_uri": "https://localhost:8080/",
          "height": 1000
        },
        "outputId": "afe7a0f1-98cd-4f9b-9315-9ae0b1742e2e"
      },
      "source": [
        "history=model.fit(X_train , y_train , validation_data=(X_valid , y_valid) , epochs=30 , batch_size=32)"
      ],
      "execution_count": 50,
      "outputs": [
        {
          "output_type": "stream",
          "text": [
            "Train on 55000 samples, validate on 5000 samples\n",
            "Epoch 1/30\n",
            "55000/55000 [==============================] - 5s 82us/sample - loss: 0.0771 - acc: 0.9714 - val_loss: 0.5336 - val_acc: 0.8916\n",
            "Epoch 2/30\n",
            "55000/55000 [==============================] - 4s 81us/sample - loss: 0.0795 - acc: 0.9706 - val_loss: 0.5285 - val_acc: 0.8876\n",
            "Epoch 3/30\n",
            "55000/55000 [==============================] - 5s 83us/sample - loss: 0.0775 - acc: 0.9713 - val_loss: 0.5218 - val_acc: 0.8928\n",
            "Epoch 4/30\n",
            "55000/55000 [==============================] - 4s 81us/sample - loss: 0.0787 - acc: 0.9715 - val_loss: 0.5051 - val_acc: 0.8980\n",
            "Epoch 5/30\n",
            "55000/55000 [==============================] - 4s 80us/sample - loss: 0.0824 - acc: 0.9699 - val_loss: 0.4998 - val_acc: 0.8956\n",
            "Epoch 6/30\n",
            "55000/55000 [==============================] - 5s 82us/sample - loss: 0.0797 - acc: 0.9708 - val_loss: 0.5309 - val_acc: 0.8884\n",
            "Epoch 7/30\n",
            "55000/55000 [==============================] - 4s 82us/sample - loss: 0.0758 - acc: 0.9715 - val_loss: 0.5126 - val_acc: 0.8944\n",
            "Epoch 8/30\n",
            "55000/55000 [==============================] - 4s 82us/sample - loss: 0.0786 - acc: 0.9708 - val_loss: 0.5080 - val_acc: 0.8958\n",
            "Epoch 9/30\n",
            "55000/55000 [==============================] - 4s 80us/sample - loss: 0.0743 - acc: 0.9715 - val_loss: 0.5238 - val_acc: 0.8950\n",
            "Epoch 10/30\n",
            "55000/55000 [==============================] - 5s 83us/sample - loss: 0.0763 - acc: 0.9719 - val_loss: 0.5281 - val_acc: 0.8880\n",
            "Epoch 11/30\n",
            "55000/55000 [==============================] - 5s 82us/sample - loss: 0.0755 - acc: 0.9724 - val_loss: 0.5299 - val_acc: 0.8896\n",
            "Epoch 12/30\n",
            "55000/55000 [==============================] - 4s 81us/sample - loss: 0.0748 - acc: 0.9720 - val_loss: 0.6048 - val_acc: 0.8862\n",
            "Epoch 13/30\n",
            "55000/55000 [==============================] - 5s 83us/sample - loss: 0.0761 - acc: 0.9713 - val_loss: 0.5989 - val_acc: 0.8796\n",
            "Epoch 14/30\n",
            "55000/55000 [==============================] - 5s 82us/sample - loss: 0.0717 - acc: 0.9735 - val_loss: 0.5588 - val_acc: 0.8952\n",
            "Epoch 15/30\n",
            "55000/55000 [==============================] - 5s 83us/sample - loss: 0.0745 - acc: 0.9728 - val_loss: 0.5627 - val_acc: 0.8966\n",
            "Epoch 16/30\n",
            "55000/55000 [==============================] - 5s 82us/sample - loss: 0.0727 - acc: 0.9726 - val_loss: 0.5466 - val_acc: 0.8922\n",
            "Epoch 17/30\n",
            "55000/55000 [==============================] - 4s 81us/sample - loss: 0.0759 - acc: 0.9715 - val_loss: 0.5720 - val_acc: 0.8862\n",
            "Epoch 18/30\n",
            "55000/55000 [==============================] - 4s 81us/sample - loss: 0.0718 - acc: 0.9728 - val_loss: 0.5527 - val_acc: 0.8900\n",
            "Epoch 19/30\n",
            "55000/55000 [==============================] - 4s 80us/sample - loss: 0.0692 - acc: 0.9746 - val_loss: 0.5933 - val_acc: 0.8868\n",
            "Epoch 20/30\n",
            "55000/55000 [==============================] - 4s 81us/sample - loss: 0.0691 - acc: 0.9744 - val_loss: 0.5965 - val_acc: 0.8912\n",
            "Epoch 21/30\n",
            "55000/55000 [==============================] - 4s 82us/sample - loss: 0.0722 - acc: 0.9743 - val_loss: 0.5739 - val_acc: 0.8904\n",
            "Epoch 22/30\n",
            "55000/55000 [==============================] - 5s 83us/sample - loss: 0.0744 - acc: 0.9721 - val_loss: 0.5456 - val_acc: 0.8874\n",
            "Epoch 23/30\n",
            "55000/55000 [==============================] - 5s 82us/sample - loss: 0.0697 - acc: 0.9743 - val_loss: 0.5559 - val_acc: 0.8888\n",
            "Epoch 24/30\n",
            "55000/55000 [==============================] - 5s 84us/sample - loss: 0.0717 - acc: 0.9731 - val_loss: 0.5872 - val_acc: 0.8874\n",
            "Epoch 25/30\n",
            "55000/55000 [==============================] - 5s 86us/sample - loss: 0.0734 - acc: 0.9730 - val_loss: 0.5460 - val_acc: 0.8908\n",
            "Epoch 26/30\n",
            "55000/55000 [==============================] - 5s 83us/sample - loss: 0.0685 - acc: 0.9741 - val_loss: 0.5549 - val_acc: 0.8952\n",
            "Epoch 27/30\n",
            "55000/55000 [==============================] - 5s 84us/sample - loss: 0.0756 - acc: 0.9719 - val_loss: 0.5485 - val_acc: 0.8934\n",
            "Epoch 28/30\n",
            "55000/55000 [==============================] - 5s 82us/sample - loss: 0.0664 - acc: 0.9756 - val_loss: 0.5429 - val_acc: 0.8928\n",
            "Epoch 29/30\n",
            "55000/55000 [==============================] - 5s 83us/sample - loss: 0.0742 - acc: 0.9730 - val_loss: 0.5510 - val_acc: 0.8904\n",
            "Epoch 30/30\n",
            "55000/55000 [==============================] - 4s 82us/sample - loss: 0.0668 - acc: 0.9750 - val_loss: 0.5436 - val_acc: 0.8910\n"
          ],
          "name": "stdout"
        }
      ]
    },
    {
      "cell_type": "code",
      "metadata": {
        "id": "Q40Z2qr-Luz8",
        "colab_type": "code",
        "colab": {
          "base_uri": "https://localhost:8080/",
          "height": 324
        },
        "outputId": "867b405b-aedf-4531-d048-ad121e9e0549"
      },
      "source": [
        "pd.DataFrame(history.history).plot(figsize = (8,5))\n",
        "plt.grid(True)\n",
        "plt.gca().set_ylim(0,1)\n",
        "plt.show()"
      ],
      "execution_count": 59,
      "outputs": [
        {
          "output_type": "display_data",
          "data": {
            "image/png": "[encoded data removed]",
            "text/plain": [
              "<Figure size 576x360 with 1 Axes>"
            ]
          },
          "metadata": {
            "tags": []
          }
        }
      ]
    },
    {
      "cell_type": "code",
      "metadata": {
        "id": "RD3o7ZnDL7v4",
        "colab_type": "code",
        "colab": {
          "base_uri": "https://localhost:8080/",
          "height": 51
        },
        "outputId": "e154f41f-97b6-4d30-a955-f217a13a15cd"
      },
      "source": [
        "model.evaluate(x_test , y_test)"
      ],
      "execution_count": 61,
      "outputs": [
        {
          "output_type": "stream",
          "text": [
            "10000/10000 [==============================] - 0s 37us/sample - loss: 0.6988 - acc: 0.8519\n"
          ],
          "name": "stdout"
        },
        {
          "output_type": "execute_result",
          "data": {
            "text/plain": [
              "[0.6988147496744991, 0.8519]"
            ]
          },
          "metadata": {
            "tags": []
          },
          "execution_count": 61
        }
      ]
    },
    {
      "cell_type": "code",
      "metadata": {
        "id": "vuZqxl_INxJd",
        "colab_type": "code",
        "colab": {}
      },
      "source": [
        "y_pred = model.predict_classes(X_test)"
      ],
      "execution_count": 0,
      "outputs": []
    },
    {
      "cell_type": "code",
      "metadata": {
        "id": "XIdv6kU8QGN1",
        "colab_type": "code",
        "colab": {
          "base_uri": "https://localhost:8080/",
          "height": 357
        },
        "outputId": "f3e36cc0-f4ed-4261-cbcc-6dabf30d121f"
      },
      "source": [
        "for i in range(20):\n",
        "  print(column_name[y_pred[i]] , \"\\t\", column_name[y_test[i]])"
      ],
      "execution_count": 74,
      "outputs": [
        {
          "output_type": "stream",
          "text": [
            "ankleboot \t ankleboot\n",
            "pullover \t pullover\n",
            "trouser \t trouser\n",
            "trouser \t trouser\n",
            "shirt \t shirt\n",
            "trouser \t trouser\n",
            "coat \t coat\n",
            "coat \t shirt\n",
            "sandal \t sandal\n",
            "sneaker \t sneaker\n",
            "coat \t coat\n",
            "sandal \t sandal\n",
            "sandal \t sneaker\n",
            "Dress \t Dress\n",
            "coat \t coat\n",
            "trouser \t trouser\n",
            "pullover \t pullover\n",
            "pullover \t coat\n",
            "bag \t bag\n",
            "Tshirt/top \t Tshirt/top\n"
          ],
          "name": "stdout"
        }
      ]
    },
    {
      "cell_type": "code",
      "metadata": {
        "id": "SlyJo1MHQgkj",
        "colab_type": "code",
        "colab": {}
      },
      "source": [
        ""
      ],
      "execution_count": 0,
      "outputs": []
    }
  ]
}