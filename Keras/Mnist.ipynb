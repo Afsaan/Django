{
  "nbformat": 4,
  "nbformat_minor": 0,
  "metadata": {
    "colab": {
      "name": "Mnist.ipynb",
      "provenance": []
    },
    "kernelspec": {
      "name": "python3",
      "display_name": "Python 3"
    },
    "accelerator": "GPU"
  },
  "cells": [
    {
      "cell_type": "code",
      "metadata": {
        "id": "A30Mr_Pktz5A",
        "colab_type": "code",
        "colab": {}
      },
      "source": [
        "from tensorflow.keras.models import Sequential\n",
        "from tensorflow.keras.layers import Dense , Flatten\n",
        "from tensorflow.keras.datasets import mnist\n",
        "import numpy as np\n",
        "import pandas as pd\n",
        "import matplotlib.pyplot as plt"
      ],
      "execution_count": 0,
      "outputs": []
    },
    {
      "cell_type": "code",
      "metadata": {
        "id": "6WTDAhs3xUCe",
        "colab_type": "code",
        "colab": {
          "base_uri": "https://localhost:8080/",
          "height": 51
        },
        "outputId": "6812ddee-2094-4c29-8005-5c4aaa1b31e8"
      },
      "source": [
        "(X_train , y_train) , (X_test , y_test) = mnist.load_data()"
      ],
      "execution_count": 3,
      "outputs": [
        {
          "output_type": "stream",
          "text": [
            "Downloading data from https://storage.googleapis.com/tensorflow/tf-keras-datasets/mnist.npz\n",
            "11493376/11490434 [==============================] - 0s 0us/step\n"
          ],
          "name": "stdout"
        }
      ]
    },
    {
      "cell_type": "code",
      "metadata": {
        "id": "5FHOYI6Wx-lI",
        "colab_type": "code",
        "colab": {
          "base_uri": "https://localhost:8080/",
          "height": 34
        },
        "outputId": "91fc8712-2324-4e13-8d42-15df9cba79d6"
      },
      "source": [
        "X_train.shape"
      ],
      "execution_count": 5,
      "outputs": [
        {
          "output_type": "execute_result",
          "data": {
            "text/plain": [
              "(60000, 28, 28)"
            ]
          },
          "metadata": {
            "tags": []
          },
          "execution_count": 5
        }
      ]
    },
    {
      "cell_type": "code",
      "metadata": {
        "id": "31AEg2siyCWl",
        "colab_type": "code",
        "colab": {}
      },
      "source": [
        "# scaling\n",
        "X_train , x_test = X_train/255.0 , X_test/255.0"
      ],
      "execution_count": 0,
      "outputs": []
    },
    {
      "cell_type": "code",
      "metadata": {
        "id": "FOCpV8A4yJ1a",
        "colab_type": "code",
        "colab": {}
      },
      "source": [
        "#model\n",
        "model = Sequential([ Flatten(input_shape = [28,28]),\n",
        "                    Dense(120 , activation='tanh'),\n",
        "                    Dense(60 , activation='relu'),\n",
        "                    Dense(30 , activation='tanh'),\n",
        "                    Dense(10 , activation='softmax')\n",
        "                    ])"
      ],
      "execution_count": 0,
      "outputs": []
    },
    {
      "cell_type": "code",
      "metadata": {
        "id": "PdhJfUvXzZBN",
        "colab_type": "code",
        "colab": {
          "base_uri": "https://localhost:8080/",
          "height": 323
        },
        "outputId": "2ebbc51f-44f1-4418-ed57-b896cf498f36"
      },
      "source": [
        "#to check the model summary\n",
        "model.summary()"
      ],
      "execution_count": 54,
      "outputs": [
        {
          "output_type": "stream",
          "text": [
            "Model: \"sequential_1\"\n",
            "_________________________________________________________________\n",
            "Layer (type)                 Output Shape              Param #   \n",
            "=================================================================\n",
            "flatten_1 (Flatten)          (None, 784)               0         \n",
            "_________________________________________________________________\n",
            "dense_4 (Dense)              (None, 120)               94200     \n",
            "_________________________________________________________________\n",
            "dense_5 (Dense)              (None, 60)                7260      \n",
            "_________________________________________________________________\n",
            "dense_6 (Dense)              (None, 30)                1830      \n",
            "_________________________________________________________________\n",
            "dense_7 (Dense)              (None, 10)                310       \n",
            "=================================================================\n",
            "Total params: 103,600\n",
            "Trainable params: 103,600\n",
            "Non-trainable params: 0\n",
            "_________________________________________________________________\n"
          ],
          "name": "stdout"
        }
      ]
    },
    {
      "cell_type": "code",
      "metadata": {
        "id": "tH_b-HCpzhpm",
        "colab_type": "code",
        "colab": {}
      },
      "source": [
        "# to check weights\n",
        "weights= model.layers[1].get_weights()"
      ],
      "execution_count": 0,
      "outputs": []
    },
    {
      "cell_type": "code",
      "metadata": {
        "id": "Cm2xT-3wzsCe",
        "colab_type": "code",
        "colab": {}
      },
      "source": [
        "model.compile(loss = 'sparse_categorical_crossentropy' , optimizer='adam' , metrics=['accuracy'])"
      ],
      "execution_count": 0,
      "outputs": []
    },
    {
      "cell_type": "code",
      "metadata": {
        "id": "MMwSWJMgztuJ",
        "colab_type": "code",
        "colab": {
          "base_uri": "https://localhost:8080/",
          "height": 1000
        },
        "outputId": "eb49f4ca-7812-436e-e962-511a7c316c29"
      },
      "source": [
        "models = model.fit(X_train , y_train , epochs=50 , batch_size=32 , validation_split=0.2)"
      ],
      "execution_count": 57,
      "outputs": [
        {
          "output_type": "stream",
          "text": [
            "Train on 48000 samples, validate on 12000 samples\n",
            "Epoch 1/50\n",
            "48000/48000 [==============================] - 4s 78us/sample - loss: 0.2886 - acc: 0.9193 - val_loss: 0.1682 - val_acc: 0.9494\n",
            "Epoch 2/50\n",
            "48000/48000 [==============================] - 4s 78us/sample - loss: 0.1275 - acc: 0.9606 - val_loss: 0.1175 - val_acc: 0.9635\n",
            "Epoch 3/50\n",
            "48000/48000 [==============================] - 4s 77us/sample - loss: 0.0909 - acc: 0.9723 - val_loss: 0.1243 - val_acc: 0.9614\n",
            "Epoch 4/50\n",
            "48000/48000 [==============================] - 4s 77us/sample - loss: 0.0697 - acc: 0.9784 - val_loss: 0.1099 - val_acc: 0.9674\n",
            "Epoch 5/50\n",
            "48000/48000 [==============================] - 4s 77us/sample - loss: 0.0530 - acc: 0.9842 - val_loss: 0.1030 - val_acc: 0.9685\n",
            "Epoch 6/50\n",
            "48000/48000 [==============================] - 4s 77us/sample - loss: 0.0456 - acc: 0.9856 - val_loss: 0.1045 - val_acc: 0.9702\n",
            "Epoch 7/50\n",
            "48000/48000 [==============================] - 4s 77us/sample - loss: 0.0354 - acc: 0.9887 - val_loss: 0.1000 - val_acc: 0.9721\n",
            "Epoch 8/50\n",
            "48000/48000 [==============================] - 4s 78us/sample - loss: 0.0317 - acc: 0.9902 - val_loss: 0.1120 - val_acc: 0.9687\n",
            "Epoch 9/50\n",
            "48000/48000 [==============================] - 4s 77us/sample - loss: 0.0276 - acc: 0.9911 - val_loss: 0.0956 - val_acc: 0.9737\n",
            "Epoch 10/50\n",
            "48000/48000 [==============================] - 4s 76us/sample - loss: 0.0246 - acc: 0.9926 - val_loss: 0.1059 - val_acc: 0.9728\n",
            "Epoch 11/50\n",
            "48000/48000 [==============================] - 4s 77us/sample - loss: 0.0205 - acc: 0.9931 - val_loss: 0.1016 - val_acc: 0.9754\n",
            "Epoch 12/50\n",
            "48000/48000 [==============================] - 4s 78us/sample - loss: 0.0183 - acc: 0.9939 - val_loss: 0.1076 - val_acc: 0.9718\n",
            "Epoch 13/50\n",
            "48000/48000 [==============================] - 4s 77us/sample - loss: 0.0208 - acc: 0.9931 - val_loss: 0.1169 - val_acc: 0.9697\n",
            "Epoch 14/50\n",
            "48000/48000 [==============================] - 4s 77us/sample - loss: 0.0164 - acc: 0.9948 - val_loss: 0.1130 - val_acc: 0.9723\n",
            "Epoch 15/50\n",
            "48000/48000 [==============================] - 4s 78us/sample - loss: 0.0147 - acc: 0.9954 - val_loss: 0.1094 - val_acc: 0.9745\n",
            "Epoch 16/50\n",
            "48000/48000 [==============================] - 4s 78us/sample - loss: 0.0180 - acc: 0.9943 - val_loss: 0.1106 - val_acc: 0.9727\n",
            "Epoch 17/50\n",
            "48000/48000 [==============================] - 4s 77us/sample - loss: 0.0129 - acc: 0.9959 - val_loss: 0.1116 - val_acc: 0.9750\n",
            "Epoch 18/50\n",
            "48000/48000 [==============================] - 4s 77us/sample - loss: 0.0127 - acc: 0.9960 - val_loss: 0.1144 - val_acc: 0.9737\n",
            "Epoch 19/50\n",
            "48000/48000 [==============================] - 4s 77us/sample - loss: 0.0123 - acc: 0.9960 - val_loss: 0.1171 - val_acc: 0.9729\n",
            "Epoch 20/50\n",
            "48000/48000 [==============================] - 4s 76us/sample - loss: 0.0120 - acc: 0.9962 - val_loss: 0.1213 - val_acc: 0.9727\n",
            "Epoch 21/50\n",
            "48000/48000 [==============================] - 4s 77us/sample - loss: 0.0112 - acc: 0.9961 - val_loss: 0.1257 - val_acc: 0.9712\n",
            "Epoch 22/50\n",
            "48000/48000 [==============================] - 4s 77us/sample - loss: 0.0125 - acc: 0.9954 - val_loss: 0.1414 - val_acc: 0.9707\n",
            "Epoch 23/50\n",
            "48000/48000 [==============================] - 4s 77us/sample - loss: 0.0102 - acc: 0.9963 - val_loss: 0.1263 - val_acc: 0.9739\n",
            "Epoch 24/50\n",
            "48000/48000 [==============================] - 4s 77us/sample - loss: 0.0099 - acc: 0.9965 - val_loss: 0.1200 - val_acc: 0.9763\n",
            "Epoch 25/50\n",
            "48000/48000 [==============================] - 4s 80us/sample - loss: 0.0096 - acc: 0.9969 - val_loss: 0.1290 - val_acc: 0.9721\n",
            "Epoch 26/50\n",
            "48000/48000 [==============================] - 4s 80us/sample - loss: 0.0111 - acc: 0.9963 - val_loss: 0.1189 - val_acc: 0.9753\n",
            "Epoch 27/50\n",
            "48000/48000 [==============================] - 4s 79us/sample - loss: 0.0087 - acc: 0.9973 - val_loss: 0.1188 - val_acc: 0.9762\n",
            "Epoch 28/50\n",
            "48000/48000 [==============================] - 4s 76us/sample - loss: 0.0107 - acc: 0.9964 - val_loss: 0.1361 - val_acc: 0.9734\n",
            "Epoch 29/50\n",
            "48000/48000 [==============================] - 4s 77us/sample - loss: 0.0071 - acc: 0.9977 - val_loss: 0.1280 - val_acc: 0.9744\n",
            "Epoch 30/50\n",
            "48000/48000 [==============================] - 4s 76us/sample - loss: 0.0096 - acc: 0.9970 - val_loss: 0.1236 - val_acc: 0.9744\n",
            "Epoch 31/50\n",
            "48000/48000 [==============================] - 4s 76us/sample - loss: 0.0089 - acc: 0.9971 - val_loss: 0.1338 - val_acc: 0.9719\n",
            "Epoch 32/50\n",
            "48000/48000 [==============================] - 4s 76us/sample - loss: 0.0081 - acc: 0.9975 - val_loss: 0.1416 - val_acc: 0.9727\n",
            "Epoch 33/50\n",
            "48000/48000 [==============================] - 4s 76us/sample - loss: 0.0109 - acc: 0.9962 - val_loss: 0.1424 - val_acc: 0.9730\n",
            "Epoch 34/50\n",
            "48000/48000 [==============================] - 4s 75us/sample - loss: 0.0071 - acc: 0.9978 - val_loss: 0.1385 - val_acc: 0.9737\n",
            "Epoch 35/50\n",
            "48000/48000 [==============================] - 4s 76us/sample - loss: 0.0112 - acc: 0.9965 - val_loss: 0.1293 - val_acc: 0.9761\n",
            "Epoch 36/50\n",
            "48000/48000 [==============================] - 4s 77us/sample - loss: 0.0053 - acc: 0.9983 - val_loss: 0.1266 - val_acc: 0.9758\n",
            "Epoch 37/50\n",
            "48000/48000 [==============================] - 4s 78us/sample - loss: 0.0066 - acc: 0.9979 - val_loss: 0.1434 - val_acc: 0.9722\n",
            "Epoch 38/50\n",
            "48000/48000 [==============================] - 4s 77us/sample - loss: 0.0104 - acc: 0.9967 - val_loss: 0.1428 - val_acc: 0.9728\n",
            "Epoch 39/50\n",
            "48000/48000 [==============================] - 4s 77us/sample - loss: 0.0048 - acc: 0.9986 - val_loss: 0.1462 - val_acc: 0.9717\n",
            "Epoch 40/50\n",
            "48000/48000 [==============================] - 4s 78us/sample - loss: 0.0100 - acc: 0.9967 - val_loss: 0.1546 - val_acc: 0.9706\n",
            "Epoch 41/50\n",
            "48000/48000 [==============================] - 4s 78us/sample - loss: 0.0077 - acc: 0.9976 - val_loss: 0.1544 - val_acc: 0.9717\n",
            "Epoch 42/50\n",
            "48000/48000 [==============================] - 4s 78us/sample - loss: 0.0089 - acc: 0.9971 - val_loss: 0.1384 - val_acc: 0.9751\n",
            "Epoch 43/50\n",
            "48000/48000 [==============================] - 4s 77us/sample - loss: 0.0045 - acc: 0.9985 - val_loss: 0.1428 - val_acc: 0.9745\n",
            "Epoch 44/50\n",
            "48000/48000 [==============================] - 4s 77us/sample - loss: 0.0056 - acc: 0.9984 - val_loss: 0.1424 - val_acc: 0.9743\n",
            "Epoch 45/50\n",
            "48000/48000 [==============================] - 4s 77us/sample - loss: 0.0095 - acc: 0.9968 - val_loss: 0.1410 - val_acc: 0.9740\n",
            "Epoch 46/50\n",
            "48000/48000 [==============================] - 4s 76us/sample - loss: 0.0059 - acc: 0.9980 - val_loss: 0.1361 - val_acc: 0.9744\n",
            "Epoch 47/50\n",
            "48000/48000 [==============================] - 4s 76us/sample - loss: 0.0062 - acc: 0.9981 - val_loss: 0.1446 - val_acc: 0.9750\n",
            "Epoch 48/50\n",
            "48000/48000 [==============================] - 4s 76us/sample - loss: 0.0067 - acc: 0.9980 - val_loss: 0.1604 - val_acc: 0.9720\n",
            "Epoch 49/50\n",
            "48000/48000 [==============================] - 4s 77us/sample - loss: 0.0087 - acc: 0.9972 - val_loss: 0.1479 - val_acc: 0.9753\n",
            "Epoch 50/50\n",
            "48000/48000 [==============================] - 4s 77us/sample - loss: 0.0048 - acc: 0.9986 - val_loss: 0.1525 - val_acc: 0.9743\n"
          ],
          "name": "stdout"
        }
      ]
    },
    {
      "cell_type": "code",
      "metadata": {
        "id": "5gytmFqy5R0b",
        "colab_type": "code",
        "colab": {
          "base_uri": "https://localhost:8080/",
          "height": 265
        },
        "outputId": "9aa55c38-f014-45ee-a359-6989ea4630d9"
      },
      "source": [
        "pd.DataFrame(models.history).plot()\n",
        "plt.grid()"
      ],
      "execution_count": 58,
      "outputs": [
        {
          "output_type": "display_data",
          "data": {
            "image/png": "[encoded data removed]",
            "text/plain": [
              "<Figure size 432x288 with 1 Axes>"
            ]
          },
          "metadata": {
            "tags": []
          }
        }
      ]
    },
    {
      "cell_type": "code",
      "metadata": {
        "id": "FozZgAZc6KpT",
        "colab_type": "code",
        "colab": {
          "base_uri": "https://localhost:8080/",
          "height": 51
        },
        "outputId": "0210feaa-66b2-4a3e-8ef1-6457029c5e24"
      },
      "source": [
        "model.evaluate(X_test , y_test)"
      ],
      "execution_count": 59,
      "outputs": [
        {
          "output_type": "stream",
          "text": [
            "10000/10000 [==============================] - 0s 44us/sample - loss: 0.1973 - acc: 0.9676\n"
          ],
          "name": "stdout"
        },
        {
          "output_type": "execute_result",
          "data": {
            "text/plain": [
              "[0.19727698720350964, 0.9676]"
            ]
          },
          "metadata": {
            "tags": []
          },
          "execution_count": 59
        }
      ]
    },
    {
      "cell_type": "code",
      "metadata": {
        "id": "kRJ6YLzI6wW0",
        "colab_type": "code",
        "colab": {}
      },
      "source": [
        "y_pred = model.predict_classes(X_test)"
      ],
      "execution_count": 0,
      "outputs": []
    },
    {
      "cell_type": "code",
      "metadata": {
        "id": "pGNHr9vN8IMd",
        "colab_type": "code",
        "colab": {
          "base_uri": "https://localhost:8080/",
          "height": 187
        },
        "outputId": "254ebba3-2b7b-4344-af32-8c1a2e3f817d"
      },
      "source": [
        "classes = [0,1,2,3,4,5,6,7,8,9]\n",
        "for i in range(10):\n",
        "  print(y_pred[i] ,\" \", y_test[i])"
      ],
      "execution_count": 62,
      "outputs": [
        {
          "output_type": "stream",
          "text": [
            "7   7\n",
            "2   2\n",
            "1   1\n",
            "0   0\n",
            "4   4\n",
            "1   1\n",
            "4   4\n",
            "9   9\n",
            "4   5\n",
            "9   9\n"
          ],
          "name": "stdout"
        }
      ]
    },
    {
      "cell_type": "code",
      "metadata": {
        "id": "htX8KoDC8dd3",
        "colab_type": "code",
        "colab": {}
      },
      "source": [
        ""
      ],
      "execution_count": 0,
      "outputs": []
    }
  ]
}