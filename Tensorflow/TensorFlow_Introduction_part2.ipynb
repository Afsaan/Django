{
  "nbformat": 4,
  "nbformat_minor": 0,
  "metadata": {
    "colab": {
      "name": "TensorFlow Introduction.ipynb",
      "provenance": []
    },
    "kernelspec": {
      "name": "python3",
      "display_name": "Python 3"
    }
  },
  "cells": [
    {
      "cell_type": "code",
      "metadata": {
        "id": "P_5JtyA9NzD8",
        "colab_type": "code",
        "outputId": "215d8f7e-b471-4718-ffcd-27473c07a493",
        "colab": {
          "base_uri": "https://localhost:8080/",
          "height": 80
        }
      },
      "source": [
        "import tensorflow as tf\n",
        "print(\"version of tensorflow {}\".format(tf.__version__))"
      ],
      "execution_count": 1,
      "outputs": [
        {
          "output_type": "display_data",
          "data": {
            "text/html": [
              "<p style=\"color: red;\">\n",
              "The default version of TensorFlow in Colab will soon switch to TensorFlow 2.x.<br>\n",
              "We recommend you <a href=\"https://www.tensorflow.org/guide/migrate\" target=\"_blank\">upgrade</a> now \n",
              "or ensure your notebook will continue to use TensorFlow 1.x via the <code>%tensorflow_version 1.x</code> magic:\n",
              "<a href=\"https://colab.research.google.com/notebooks/tensorflow_version.ipynb\" target=\"_blank\">more info</a>.</p>\n"
            ],
            "text/plain": [
              "<IPython.core.display.HTML object>"
            ]
          },
          "metadata": {
            "tags": []
          }
        },
        {
          "output_type": "stream",
          "text": [
            "version of tensorflow 1.15.0\n"
          ],
          "name": "stdout"
        }
      ]
    },
    {
      "cell_type": "code",
      "metadata": {
        "id": "L3xGu59hNh-K",
        "colab_type": "code",
        "outputId": "412d6eef-6beb-46b6-c98b-a7b164eace76",
        "colab": {
          "base_uri": "https://localhost:8080/",
          "height": 122
        }
      },
      "source": [
        "from google.colab import drive\n",
        "drive.mount('/gdrive')"
      ],
      "execution_count": 0,
      "outputs": [
        {
          "output_type": "stream",
          "text": [
            "Go to this URL in a browser: https://accounts.google.com/o/oauth2/auth?client_id=947318989803-6bn6qk8qdgf4n4g3pfee6491hc0brc4i.apps.googleusercontent.com&redirect_uri=urn%3aietf%3awg%3aoauth%3a2.0%3aoob&response_type=code&scope=email%20https%3a%2f%2fwww.googleapis.com%2fauth%2fdocs.test%20https%3a%2f%2fwww.googleapis.com%2fauth%2fdrive%20https%3a%2f%2fwww.googleapis.com%2fauth%2fdrive.photos.readonly%20https%3a%2f%2fwww.googleapis.com%2fauth%2fpeopleapi.readonly\n",
            "\n",
            "Enter your authorization code:\n",
            "··········\n",
            "Mounted at /gdrive\n"
          ],
          "name": "stdout"
        }
      ]
    },
    {
      "cell_type": "code",
      "metadata": {
        "id": "x8KG1hH8No2q",
        "colab_type": "code",
        "colab": {
          "base_uri": "https://localhost:8080/",
          "height": 34
        },
        "outputId": "2bd2cb34-0998-4562-c304-9c85b2f914d6"
      },
      "source": [
        "hello = tf.constant(\"hello world\")\n",
        "\n",
        "#start the tf session\n",
        "sess = tf.Session()\n",
        "\n",
        "#run the operation of initializing the constant\n",
        "sess.run(hello)"
      ],
      "execution_count": 2,
      "outputs": [
        {
          "output_type": "execute_result",
          "data": {
            "text/plain": [
              "b'hello world'"
            ]
          },
          "metadata": {
            "tags": []
          },
          "execution_count": 2
        }
      ]
    },
    {
      "cell_type": "markdown",
      "metadata": {
        "id": "WyqUyA6yQCxZ",
        "colab_type": "text"
      },
      "source": [
        "***TENSORFLOW BASIC***"
      ]
    },
    {
      "cell_type": "code",
      "metadata": {
        "id": "YDlkU-KzQBH1",
        "colab_type": "code",
        "colab": {
          "base_uri": "https://localhost:8080/",
          "height": 85
        },
        "outputId": "78dcaa64-ab65-484f-ad25-473b9f041695"
      },
      "source": [
        "# tensor flow to add two numbers\n",
        "a = tf.constant(2)\n",
        "b = tf.constant(5)\n",
        "sum = a+b\n",
        "\n",
        "with tf.Session() as sess:\n",
        "  a = sess.run(sum)\n"
      ],
      "execution_count": 9,
      "outputs": [
        {
          "output_type": "stream",
          "text": [
            "Const_13\n",
            "Tensor(\"Const_14:0\", shape=(), dtype=int32)\n",
            "Tensor(\"add_6:0\", shape=(), dtype=int32)\n",
            "7\n"
          ],
          "name": "stdout"
        }
      ]
    },
    {
      "cell_type": "markdown",
      "metadata": {
        "id": "MSDTIK-4VBRM",
        "colab_type": "text"
      },
      "source": [
        "# **Attributes of Tensor**\n",
        "\n",
        "\n",
        "\n"
      ]
    },
    {
      "cell_type": "code",
      "metadata": {
        "id": "4e7VUebsRg46",
        "colab_type": "code",
        "outputId": "081e9611-5536-4e9c-e555-2184e1ae31ff",
        "colab": {
          "base_uri": "https://localhost:8080/",
          "height": 51
        }
      },
      "source": [
        "v = tf.constant([2,4])\n",
        "print(\"shape of the v is:- {}\".format(v.shape))\n",
        "print(\"data type of the v is:- {}\".format(v.dtype))\n",
        "\n",
        "# with tf.Session() as sess:"
      ],
      "execution_count": 17,
      "outputs": [
        {
          "output_type": "stream",
          "text": [
            "shape of the v is:- (2,)\n",
            "data type of the v is:- <dtype: 'int32'>\n"
          ],
          "name": "stdout"
        }
      ]
    },
    {
      "cell_type": "markdown",
      "metadata": {
        "id": "fTsSSuH-Y5Ly",
        "colab_type": "text"
      },
      "source": [
        "Evaluating constant wrt Session"
      ]
    },
    {
      "cell_type": "code",
      "metadata": {
        "id": "yd3bPl0aRjmD",
        "colab_type": "code",
        "outputId": "5322967a-cccb-4f6b-cba3-aec422c1d360",
        "colab": {
          "base_uri": "https://localhost:8080/",
          "height": 34
        }
      },
      "source": [
        "# implicit session passing\n",
        "b = tf.constant(2)\n",
        "\n",
        "with tf.Session() as sess:\n",
        "  print(b.eval())"
      ],
      "execution_count": 24,
      "outputs": [
        {
          "output_type": "stream",
          "text": [
            "2\n"
          ],
          "name": "stdout"
        }
      ]
    },
    {
      "cell_type": "code",
      "metadata": {
        "id": "teaNlyLy_0i5",
        "colab_type": "code",
        "colab": {
          "base_uri": "https://localhost:8080/",
          "height": 34
        },
        "outputId": "a817a009-8481-464f-ba76-21c98555b604"
      },
      "source": [
        "# explicit session passing\n",
        "b = tf.constant(4)\n",
        "\n",
        "sess = tf.Session()\n",
        "\n",
        "b.eval(session = sess)"
      ],
      "execution_count": 25,
      "outputs": [
        {
          "output_type": "execute_result",
          "data": {
            "text/plain": [
              "4"
            ]
          },
          "metadata": {
            "tags": []
          },
          "execution_count": 25
        }
      ]
    },
    {
      "cell_type": "code",
      "metadata": {
        "id": "IAaGHkau_0Ed",
        "colab_type": "code",
        "colab": {
          "base_uri": "https://localhost:8080/",
          "height": 34
        },
        "outputId": "801bea75-0b98-4894-9120-6e1af6615c35"
      },
      "source": [
        "# using sess.run\n",
        "c = tf.constant(5)\n",
        "with tf.Session() as sess:\n",
        "  print(sess.run(c))\n"
      ],
      "execution_count": 27,
      "outputs": [
        {
          "output_type": "stream",
          "text": [
            "5\n"
          ],
          "name": "stdout"
        }
      ]
    },
    {
      "cell_type": "code",
      "metadata": {
        "id": "dtfyhyikBusc",
        "colab_type": "code",
        "colab": {
          "base_uri": "https://localhost:8080/",
          "height": 51
        },
        "outputId": "ee576f3e-06cc-4eab-9855-2a610368957b"
      },
      "source": [
        "# some example part 1\n",
        "\n",
        "a = tf.constant(4)\n",
        "b = tf.constant(5)\n",
        "c = a + b\n",
        "\n",
        "print(\"name of the tensor corresponding to c is {}\".format(c.name))\n",
        "print(\"operation which created tesnor pointed to c {}\".format(c.op.name))"
      ],
      "execution_count": 28,
      "outputs": [
        {
          "output_type": "stream",
          "text": [
            "name of the tensor corresponding to c is add_7:0\n",
            "operation which created tesnor pointed to c add_7\n"
          ],
          "name": "stdout"
        }
      ]
    },
    {
      "cell_type": "code",
      "metadata": {
        "id": "R67fHpzWTh9C",
        "colab_type": "code",
        "colab": {
          "base_uri": "https://localhost:8080/",
          "height": 204
        },
        "outputId": "bd283582-106c-44f6-af16-b154a8fdf89f"
      },
      "source": [
        "# understanding the operation of simple addition\n",
        "\n",
        "a = tf.constant(4)\n",
        "b = tf.constant(5)\n",
        "c = tf.add(a,b)\n",
        "print(c.op)\n",
        "\n",
        "with tf.Session() as sess:\n",
        "  d = sess.run(c)\n",
        "\n"
      ],
      "execution_count": 34,
      "outputs": [
        {
          "output_type": "stream",
          "text": [
            "name: \"Add_13\"\n",
            "op: \"Add\"\n",
            "input: \"Const_45\"\n",
            "input: \"Const_46\"\n",
            "attr {\n",
            "  key: \"T\"\n",
            "  value {\n",
            "    type: DT_INT32\n",
            "  }\n",
            "}\n",
            "\n"
          ],
          "name": "stdout"
        }
      ]
    },
    {
      "cell_type": "markdown",
      "metadata": {
        "id": "vbfGadyiGGH5",
        "colab_type": "text"
      },
      "source": [
        "CREATING CUSTOM GRAPH FOR ADDITION EXAMPLE"
      ]
    },
    {
      "cell_type": "code",
      "metadata": {
        "id": "gYWJ2hK0GDIR",
        "colab_type": "code",
        "colab": {}
      },
      "source": [
        "graph = tf.Graph()\n",
        "sess = tf.Session(graph = graph)\n",
        "\n",
        "with graph.as_default():\n",
        "  a = tf.constant(3)\n",
        "  b = tf.constant(4)\n",
        "  c = tf.add(a,b)"
      ],
      "execution_count": 0,
      "outputs": []
    },
    {
      "cell_type": "code",
      "metadata": {
        "id": "QiV9STu1Tk7N",
        "colab_type": "code",
        "colab": {
          "base_uri": "https://localhost:8080/",
          "height": 935
        },
        "outputId": "f4231f2e-49bc-4dd3-cd12-84f00ee45765"
      },
      "source": [
        "# Printing computational graph for the Simple Addition Example\n",
        "for i , op in enumerate(graph.get_operations()):\n",
        "  print('----------------operation {} is \\n {}'.format(i , op))"
      ],
      "execution_count": 38,
      "outputs": [
        {
          "output_type": "stream",
          "text": [
            "----------------operation 0 is \n",
            " name: \"Const\"\n",
            "op: \"Const\"\n",
            "attr {\n",
            "  key: \"dtype\"\n",
            "  value {\n",
            "    type: DT_INT32\n",
            "  }\n",
            "}\n",
            "attr {\n",
            "  key: \"value\"\n",
            "  value {\n",
            "    tensor {\n",
            "      dtype: DT_INT32\n",
            "      tensor_shape {\n",
            "      }\n",
            "      int_val: 3\n",
            "    }\n",
            "  }\n",
            "}\n",
            "\n",
            "----------------operation 1 is \n",
            " name: \"Const_1\"\n",
            "op: \"Const\"\n",
            "attr {\n",
            "  key: \"dtype\"\n",
            "  value {\n",
            "    type: DT_INT32\n",
            "  }\n",
            "}\n",
            "attr {\n",
            "  key: \"value\"\n",
            "  value {\n",
            "    tensor {\n",
            "      dtype: DT_INT32\n",
            "      tensor_shape {\n",
            "      }\n",
            "      int_val: 4\n",
            "    }\n",
            "  }\n",
            "}\n",
            "\n",
            "----------------operation 2 is \n",
            " name: \"Add\"\n",
            "op: \"Add\"\n",
            "input: \"Const\"\n",
            "input: \"Const_1\"\n",
            "attr {\n",
            "  key: \"T\"\n",
            "  value {\n",
            "    type: DT_INT32\n",
            "  }\n",
            "}\n",
            "\n"
          ],
          "name": "stdout"
        }
      ]
    },
    {
      "cell_type": "markdown",
      "metadata": {
        "id": "1D7XCa13KzD_",
        "colab_type": "text"
      },
      "source": [
        "Fetching and executing tensor by name in tensorflow"
      ]
    },
    {
      "cell_type": "code",
      "metadata": {
        "id": "WjECevuCVrKn",
        "colab_type": "code",
        "outputId": "a82e85c5-1636-4f3c-ed15-bc9434fc46e3",
        "colab": {
          "base_uri": "https://localhost:8080/",
          "height": 34
        }
      },
      "source": [
        "sess = tf.Session()\n",
        "\n",
        "a = tf.constant(3 , name = 'const_a')\n",
        "b = tf.constant(4 , name = 'const_b')\n",
        "tf.add(a,b , name = 'addition')\n",
        "\n",
        "c = tf.get_default_graph().get_tensor_by_name('addition:0')\n",
        "print(c.eval(session=sess))\n"
      ],
      "execution_count": 41,
      "outputs": [
        {
          "output_type": "stream",
          "text": [
            "7\n"
          ],
          "name": "stdout"
        }
      ]
    },
    {
      "cell_type": "code",
      "metadata": {
        "id": "h546_whtV4u9",
        "colab_type": "code",
        "colab": {}
      },
      "source": [
        ""
      ],
      "execution_count": 0,
      "outputs": []
    },
    {
      "cell_type": "code",
      "metadata": {
        "id": "o4cgBBmAWJj_",
        "colab_type": "code",
        "colab": {}
      },
      "source": [
        ""
      ],
      "execution_count": 0,
      "outputs": []
    }
  ]
}