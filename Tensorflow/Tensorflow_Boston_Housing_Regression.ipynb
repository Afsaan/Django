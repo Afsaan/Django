{
 "cells": [
  {
   "cell_type": "code",
   "execution_count": 30,
   "metadata": {},
   "outputs": [],
   "source": [
    "#importing important libraries\n",
    "import numpy as np\n",
    "import pandas as pd\n",
    "import matplotlib.pyplot as plt\n",
    "import tensorflow as tf\n",
    "from sklearn.datasets import load_boston"
   ]
  },
  {
   "cell_type": "code",
   "execution_count": 6,
   "metadata": {},
   "outputs": [],
   "source": [
    "#reading the data\n",
    "def read_data():\n",
    "    boston = load_boston()\n",
    "    features = np.array(boston.data)\n",
    "    labels = np.array(boston.target)\n",
    "    return features,labels"
   ]
  },
  {
   "cell_type": "code",
   "execution_count": 7,
   "metadata": {},
   "outputs": [],
   "source": [
    "#normalization the data\n",
    "def normalise_feature(dataset):\n",
    "    mu = np.mean(dataset , axis =0 , dtype=np.float32 )\n",
    "    sigma = np.std(dataset , axis = 0, dtype=np.float32)\n",
    "    scalar_dataset = (dataset-mu)/sigma\n",
    "    return scalar_dataset    "
   ]
  },
  {
   "cell_type": "code",
   "execution_count": 8,
   "metadata": {},
   "outputs": [],
   "source": [
    "#appending bias\n",
    "def append_bias_reshape(features,labels):\n",
    "    n_training_samples = features.shape[0]\n",
    "    n_dim = features.shape[1]\n",
    "    f = np.c_[np.ones(n_training_samples) , features]\n",
    "    l = np.reshape(labels,(n_training_samples , 1))\n",
    "    return f,l"
   ]
  },
  {
   "cell_type": "code",
   "execution_count": 11,
   "metadata": {},
   "outputs": [],
   "source": [
    "#train test split\n",
    "def train_test_split(f , l):\n",
    "    np.random.seed(42)\n",
    "    rnd_indices = np.random.rand(len(f))<0.80\n",
    "    \n",
    "    X_train = f[rnd_indices]\n",
    "    y_train = l[rnd_indices]\n",
    "    X_test = f[~rnd_indices]\n",
    "    y_test = l[~rnd_indices]\n",
    "    \n",
    "    return X_train,X_test,y_train,y_test\n",
    "    \n",
    "    "
   ]
  },
  {
   "cell_type": "code",
   "execution_count": 12,
   "metadata": {},
   "outputs": [],
   "source": [
    "features,labels = read_data()\n",
    "# print(features,labels)\n",
    "normalised_feature = normalise_feature(features)\n",
    "# print(normalised_feature)\n",
    "f , l = append_bias_reshape(normalised_feature ,labels )\n",
    "X_train,X_test,y_train,y_test =train_test_split(f,l)  "
   ]
  },
  {
   "cell_type": "code",
   "execution_count": 22,
   "metadata": {},
   "outputs": [],
   "source": [
    "#model training\n",
    "lr = 0.005\n",
    "training_epochs = 1000\n",
    "n_dim = f.shape[1]\n",
    "sess = tf.Session()\n",
    "cost_history = np.empty(shape=[1] , dtype= float)\n",
    "\n",
    "X = tf.placeholder(tf.float32 , [None , n_dim], name =\"X\")\n",
    "Y = tf.placeholder(tf.float32 , [None , 1], name =\"y\")\n",
    "W = tf.Variable(tf.ones([n_dim,1]) , name = 'weights')\n",
    "\n",
    "init = tf.global_variables_initializer()\n",
    "sess.run(init)"
   ]
  },
  {
   "cell_type": "code",
   "execution_count": 27,
   "metadata": {},
   "outputs": [],
   "source": [
    "#hypothesis\n",
    "y_pred = tf.matmul(X,W)\n",
    "cost = tf.reduce_mean(tf.square(Y - y_pred))\n",
    "training_step = tf.train.GradientDescentOptimizer(lr).minimize(cost)\n",
    "\n",
    "for _ in range(training_epochs):\n",
    "    sess.run(training_step , feed_dict={X:X_train , Y:y_train})\n",
    "    cost_history = np.append(cost_history,sess.run(cost, feed_dict={X:X_train , Y:y_train}))\n",
    "    "
   ]
  },
  {
   "cell_type": "code",
   "execution_count": 31,
   "metadata": {},
   "outputs": [
    {
     "data": {
      "image/png": "[encoded data removed]",
      "text/plain": [
       "<Figure size 432x288 with 1 Axes>"
      ]
     },
     "metadata": {
      "needs_background": "light"
     },
     "output_type": "display_data"
    }
   ],
   "source": [
    "plt.plot(range(len(cost_history)),cost_history)\n",
    "plt.show()"
   ]
  },
  {
   "cell_type": "code",
   "execution_count": 32,
   "metadata": {},
   "outputs": [],
   "source": [
    "y_pred = sess.run(y_pred , feed_dict={X : X_test})"
   ]
  },
  {
   "cell_type": "code",
   "execution_count": 37,
   "metadata": {},
   "outputs": [],
   "source": [
    "rmse = tf.reduce_mean(tf.square(y_test - y_pred))"
   ]
  },
  {
   "cell_type": "code",
   "execution_count": 39,
   "metadata": {},
   "outputs": [
    {
     "data": {
      "text/plain": [
       "24.561947512116294"
      ]
     },
     "execution_count": 39,
     "metadata": {},
     "output_type": "execute_result"
    }
   ],
   "source": [
    "# metrics \n",
    "sess.run(rmse)"
   ]
  },
  {
   "cell_type": "code",
   "execution_count": null,
   "metadata": {},
   "outputs": [],
   "source": []
  }
 ],
 "metadata": {
  "kernelspec": {
   "display_name": "Python 3",
   "language": "python",
   "name": "python3"
  },
  "language_info": {
   "codemirror_mode": {
    "name": "ipython",
    "version": 3
   },
   "file_extension": ".py",
   "mimetype": "text/x-python",
   "name": "python",
   "nbconvert_exporter": "python",
   "pygments_lexer": "ipython3",
   "version": "3.7.4"
  }
 },
 "nbformat": 4,
 "nbformat_minor": 2
}
